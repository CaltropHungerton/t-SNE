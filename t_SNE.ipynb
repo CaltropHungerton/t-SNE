{
  "cells": [
    {
      "cell_type": "code",
      "execution_count": 6,
      "metadata": {
        "colab": {
          "base_uri": "https://localhost:8080/",
          "height": 452
        },
        "id": "HiVeCCTexiLZ",
        "outputId": "b1410c0c-b464-4591-f2f9-a876b154be0e"
      },
      "outputs": [
        {
          "output_type": "display_data",
          "data": {
            "text/plain": [
              "<Figure size 640x480 with 1 Axes>"
            ],
            "image/png": "[encoded data removed]"
          },
          "metadata": {}
        }
      ],
      "source": [
        "import numpy as np\n",
        "\n",
        "import jax\n",
        "import jax.numpy as jnp\n",
        "import jax.random as random\n",
        "from jax import grad, jit, vmap\n",
        "\n",
        "\n",
        "def getProbs(X, goal_perplexity):\n",
        "    n = X.shape[0]\n",
        "    probs = np.zeros((n, n))\n",
        "    tol = 1e-5  # window for perplexity convergence\n",
        "\n",
        "    for i in range(n):  # computing the probabilities repeatedly to search for correct sigmas for each row\n",
        "        sigMin, sigMax = 1e-10, 1e3\n",
        "        searchIters = 50\n",
        "\n",
        "        for _ in range(searchIters):  # binary search\n",
        "            sig = (sigMax + sigMin) / 2\n",
        "            for j in range(n):\n",
        "                if i != j:\n",
        "                    probs[i, j] = np.exp(-np.linalg.norm(X[i] - X[j]) ** 2 / (2 * sig ** 2))\n",
        "                else:\n",
        "                    probs[i, j] = 0\n",
        "\n",
        "            sum_probs_i = np.sum(probs[i])\n",
        "            if sum_probs_i > 0:\n",
        "                probs[i] /= sum_probs_i  # normalize probabilities\n",
        "\n",
        "            entropy = -np.sum(probs[i] * np.log2(probs[i] + 1e-10))  # calc entropy for the row\n",
        "            current_perplexity = 2 ** entropy  # calc current perplexity using entropy\n",
        "\n",
        "            if current_perplexity > goal_perplexity:\n",
        "                sigMax = sig\n",
        "            else:\n",
        "                sigMin = sig\n",
        "\n",
        "            if abs(current_perplexity - goal_perplexity) < tol:\n",
        "                break\n",
        "\n",
        "    P = (probs + probs.T) / (2 * n) # symmetrize probability matrix\n",
        "\n",
        "    return P\n",
        "\n",
        "\n",
        "def compute_Q(Y):\n",
        "    \"\"\"Compute the Q matrix for low-dimensional embeddings Y using t-SNE's Cauchy distribution.\"\"\"\n",
        "    n = Y.shape[0]\n",
        "    sum_Y = jnp.sum(jnp.square(Y), axis=1)\n",
        "    D = jnp.add(jnp.add(-2 * jnp.dot(Y, Y.T), sum_Y).T, sum_Y)\n",
        "    Q = jnp.power(1 + D, -1)\n",
        "    Q = Q * (1 - jnp.eye(n))  # Set diagonal to zero\n",
        "    Q /= jnp.sum(Q)\n",
        "    Q = jnp.maximum(Q, 1e-10)  # Ensure numerical stability\n",
        "    return Q\n",
        "\n",
        "def KL_divergence(P, Y):\n",
        "    \"\"\"Compute the KL divergence between the high-dimensional P matrix and low-dimensional Q matrix.\"\"\"\n",
        "    Q = compute_Q(Y)\n",
        "    return jnp.sum(P * jnp.log2(P / Q + 1e-10))\n",
        "\n",
        "kl_div_grad = jit(grad(KL_divergence, argnums=1))\n",
        "\n",
        "\"\"\"\n",
        "ok what do i need to do next: i need to get\n",
        "\n",
        "\n",
        "\"\"\"\n",
        "\n",
        "\n",
        "from sklearn.datasets import make_blobs\n",
        "import matplotlib.pyplot as plt\n",
        "\n",
        "# Generate synthetic data\n",
        "X, labels = make_blobs(n_samples=300, centers=3, n_features=50, random_state=42)\n",
        "\n",
        "goal_perplexity = 30\n",
        "P = getProbs(X, goal_perplexity)\n",
        "\n",
        "key = random.PRNGKey(42)\n",
        "Y = random.normal(key, (X.shape[0], 2)) * 1e-4\n",
        "\n",
        "learning_rate = 1e-2\n",
        "num_iterations = 50000\n",
        "\n",
        "for _ in range(num_iterations):\n",
        "    gradients = kl_div_grad(P, Y)\n",
        "    Y -= learning_rate * gradients\n",
        "\n",
        "# Plot the result\n",
        "plt.scatter(Y[:, 0], Y[:, 1], c=labels)\n",
        "plt.title(\"t-SNE result\")\n",
        "plt.show()\n"
      ]
    }
  ],
  "metadata": {
    "colab": {
      "provenance": []
    },
    "kernelspec": {
      "display_name": "Python 3",
      "name": "python3"
    },
    "language_info": {
      "name": "python"
    }
  },
  "nbformat": 4,
  "nbformat_minor": 0
}